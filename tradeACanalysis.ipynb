{
  "nbformat": 4,
  "nbformat_minor": 0,
  "metadata": {
    "colab": {
      "provenance": []
    },
    "kernelspec": {
      "name": "python3",
      "display_name": "Python 3"
    },
    "language_info": {
      "name": "python"
    }
  },
  "cells": [
    {
      "cell_type": "code",
      "execution_count": 1,
      "metadata": {
        "id": "a6ZQC_kj_9cP"
      },
      "outputs": [],
      "source": [
        "import pandas as pd\n",
        "import numpy as np\n",
        "import ast"
      ]
    },
    {
      "cell_type": "code",
      "source": [
        "def load_data(file_path):\n",
        "    df = pd.read_csv(file_path)\n",
        "    df.dropna(subset=['Trade_History'], inplace=True)\n",
        "    df['Trade_History'] = df['Trade_History'].apply(ast.literal_eval)\n",
        "    return df"
      ],
      "metadata": {
        "id": "vLtHkPh___n8"
      },
      "execution_count": 2,
      "outputs": []
    },
    {
      "cell_type": "code",
      "source": [
        "def identify_trade_position(trade):\n",
        "    side = trade['side'].lower()\n",
        "    position_side = trade['positionSide'].lower()\n",
        "    return f\"{position_side}_{'open' if side == 'buy' else 'close'}\""
      ],
      "metadata": {
        "id": "D1JR4nmdDWQU"
      },
      "execution_count": 7,
      "outputs": []
    },
    {
      "cell_type": "code",
      "source": [
        "def calculate_metrics(trade_history):\n",
        "    if not trade_history:\n",
        "        return {\n",
        "            'ROI': 0,\n",
        "            'PnL': 0,\n",
        "            'Sharpe Ratio': 0,\n",
        "            'Max Drawdown': 0,\n",
        "            'Win Rate': 0,\n",
        "            'Win Positions': 0,\n",
        "            'Total Positions': 0\n",
        "        }\n",
        "\n",
        "    initial_balance = trade_history[0]['quantity']\n",
        "    total_pnl = sum(trade['realizedProfit'] for trade in trade_history)\n",
        "    roi = (total_pnl / initial_balance) * 100 if initial_balance else 0\n",
        "\n",
        "    profits = [trade['realizedProfit'] for trade in trade_history if trade['realizedProfit'] > 0]\n",
        "    losses = [trade['realizedProfit'] for trade in trade_history if trade['realizedProfit'] < 0]\n",
        "\n",
        "    win_positions = len(profits)\n",
        "    total_positions = len(trade_history)\n",
        "    win_rate = (win_positions / total_positions) * 100 if total_positions else 0\n",
        "\n",
        "    returns = np.array(profits + losses)\n",
        "    sharpe_ratio = np.mean(returns) / np.std(returns) if np.std(returns) else 0\n",
        "\n",
        "    equity_curve = np.cumsum(returns)\n",
        "    max_drawdown = np.max(np.maximum.accumulate(equity_curve) - equity_curve) if len(equity_curve) > 0 else 0\n",
        "\n",
        "    return {\n",
        "        'ROI': roi,\n",
        "        'PnL': total_pnl,\n",
        "        'Sharpe Ratio': sharpe_ratio,\n",
        "        'Max Drawdown': max_drawdown,\n",
        "        'Win Rate': win_rate,\n",
        "        'Win Positions': win_positions,\n",
        "        'Total Positions': total_positions\n",
        "    }"
      ],
      "metadata": {
        "id": "GPcG5o1j__lB"
      },
      "execution_count": 8,
      "outputs": []
    },
    {
      "cell_type": "code",
      "source": [
        "# Rank accounts based on metrics\n",
        "def rank_accounts(df):\n",
        "    metrics_list = []\n",
        "    for _, row in df.iterrows():\n",
        "        metrics = calculate_metrics(row['Trade_History'])\n",
        "        metrics['Port_IDs'] = row['Port_IDs']\n",
        "        metrics_list.append(metrics)\n",
        "\n",
        "    df_metrics = pd.DataFrame(metrics_list)\n",
        "    df_metrics['Score'] = df_metrics['ROI'] + df_metrics['Sharpe Ratio'] - df_metrics['Max Drawdown'] + df_metrics['Win Rate']\n",
        "    df_ranked = df_metrics.sort_values(by='Score', ascending=False)\n",
        "\n",
        "    return df_ranked.head(20)"
      ],
      "metadata": {
        "id": "JTBTV4f0__hl"
      },
      "execution_count": 9,
      "outputs": []
    },
    {
      "cell_type": "code",
      "source": [
        "def main(file_path, save_path):\n",
        "    df = load_data(file_path)\n",
        "    top_20_accounts = rank_accounts(df)\n",
        "    print(top_20_accounts)\n",
        "\n",
        "    # Save output to Google Drive\n",
        "    top_20_accounts.to_csv(save_path, index=False)\n",
        "    print(f\"Results saved to: {save_path}\")"
      ],
      "metadata": {
        "id": "4tmPYnzrA_0k"
      },
      "execution_count": 10,
      "outputs": []
    },
    {
      "cell_type": "code",
      "source": [
        "file_path = \"/content/drive/MyDrive/TRADES_CopyTr_90D_ROI.csv\"\n",
        "save_path = \"/content/drive/My Drive/top_20_accounts.csv\"  # Adjust based on your Google Drive structure\n",
        "main(file_path, save_path)"
      ],
      "metadata": {
        "colab": {
          "base_uri": "https://localhost:8080/"
        },
        "id": "ls7JyppIA_yA",
        "outputId": "e5e94843-1ac3-4543-ab8e-d1b678826563"
      },
      "execution_count": 11,
      "outputs": [
        {
          "output_type": "stream",
          "name": "stderr",
          "text": [
            "/usr/local/lib/python3.11/dist-packages/numpy/core/_methods.py:206: RuntimeWarning: Degrees of freedom <= 0 for slice\n",
            "  ret = _var(a, axis=axis, dtype=dtype, out=out, ddof=ddof,\n",
            "/usr/local/lib/python3.11/dist-packages/numpy/core/_methods.py:163: RuntimeWarning: invalid value encountered in divide\n",
            "  arrmean = um.true_divide(arrmean, div, out=arrmean,\n",
            "/usr/local/lib/python3.11/dist-packages/numpy/core/_methods.py:198: RuntimeWarning: invalid value encountered in scalar divide\n",
            "  ret = ret.dtype.type(ret / rcount)\n",
            "/usr/local/lib/python3.11/dist-packages/numpy/core/fromnumeric.py:3504: RuntimeWarning: Mean of empty slice.\n",
            "  return _methods._mean(a, axis=axis, dtype=dtype,\n",
            "/usr/local/lib/python3.11/dist-packages/numpy/core/_methods.py:129: RuntimeWarning: invalid value encountered in scalar divide\n",
            "  ret = ret.dtype.type(ret / rcount)\n"
          ]
        },
        {
          "output_type": "stream",
          "name": "stdout",
          "text": [
            "              ROI           PnL  Sharpe Ratio  Max Drawdown   Win Rate  \\\n",
            "16   49658.226912   4545.242338      0.428111     40.286009  24.172185   \n",
            "132  41673.340182   1884.468443      0.127827    974.465799  46.452867   \n",
            "136  39145.220554   2087.771193      0.414911      3.088800  40.991536   \n",
            "12   32110.642762   3509.044619      0.171196    341.304880  36.828260   \n",
            "84   26484.861943  10374.965290      0.078372   3127.910319  40.165289   \n",
            "87   22282.173535  14197.577076      0.419216   1768.808421  52.765957   \n",
            "94   14149.854392   7581.491983      0.454893    104.426983  45.752928   \n",
            "119  13580.574173   7195.178325      0.254607     47.593106  74.539632   \n",
            "21   13164.275020   2856.300564      0.567771      0.000000  64.759725   \n",
            "85   10882.694514   2176.833824      0.923372    256.342096  43.522802   \n",
            "63    9066.088858   2500.336646      0.314640    441.137409  40.031898   \n",
            "117   8430.527847   2361.424572      0.623784     55.940419  54.803866   \n",
            "143   9747.273777   2599.761671      0.142474   1900.125405  32.665139   \n",
            "140   4232.072035   1264.289200      0.971688      0.000000  44.360902   \n",
            "98    4289.937538    425.965058      0.258171    131.749341  18.750000   \n",
            "109   3820.943015   1038.807419      0.701209      0.000000  55.351682   \n",
            "10    3786.777897   3778.878224      0.376137      0.000000  20.748299   \n",
            "91    4215.561981   5843.152607      0.345187    765.732957  43.490054   \n",
            "13    3408.580456   3134.735103      0.308605      0.000000  50.091743   \n",
            "22    4196.637737  16790.012238      0.132556    826.303392  51.557712   \n",
            "\n",
            "     Win Positions  Total Positions             Port_IDs         Score  \n",
            "16              73              302  4031181049693676544  49642.541200  \n",
            "132           1434             3087  3993222640082269952  40745.455077  \n",
            "136            339              827  4023616625178799873  39183.538200  \n",
            "12             980             2661  3996598927198996481  31806.337338  \n",
            "84            2430             6050  3931992636670880512  23397.195285  \n",
            "87             372              705  4022565861939831809  20566.550288  \n",
            "94            2774             6063  3944088772635000577  14091.635231  \n",
            "119            931             1249  3886752488982104320  13607.775305  \n",
            "21             283              437  3891020560590657281  13229.602516  \n",
            "85            2634             6052  4022641794255717633  10670.798591  \n",
            "63             251              627  4012994295026226176   8665.297987  \n",
            "117            964             1759  3943533600390906881   8430.015078  \n",
            "143           1711             5238  3988187872032603905   7879.955986  \n",
            "140             59              133  4039129759104249600   4277.404625  \n",
            "98              72              384  3949329502284748801   4177.196368  \n",
            "109            181              327  4039279455324236544   3876.995905  \n",
            "10              61              294  4013978721149559808   3807.902333  \n",
            "91            1443             3318  3999845462424248576   3493.664266  \n",
            "13             273              545  4017323550554338817   3458.980805  \n",
            "22            2019             3916  3956076827719377409   3422.024613  \n",
            "Results saved to: /content/drive/My Drive/top_20_accounts.csv\n"
          ]
        }
      ]
    },
    {
      "cell_type": "code",
      "source": [],
      "metadata": {
        "id": "15KmJqGlA_u-"
      },
      "execution_count": null,
      "outputs": []
    }
  ]
}